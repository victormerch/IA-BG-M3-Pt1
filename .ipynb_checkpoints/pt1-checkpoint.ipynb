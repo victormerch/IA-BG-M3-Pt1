{
 "cells": [
  {
   "cell_type": "code",
   "execution_count": 1,
   "id": "988dd549",
   "metadata": {},
   "outputs": [],
   "source": [
    "import random\n",
    "# Funcion para piedra papel o tijeras\n",
    "def piedraOpapel():\n",
    "    print(\"+++ PIEDRA, PAPEL TIJERAS +++\\n\".ljust(37),\"HUMANO VS BOT\")\n",
    "    #Variables de config\n",
    "    elementos = {1:\"Piedra\",2:\"Papel\",3:\"Tijeras\"}\n",
    "    winsHuman = 0\n",
    "    winsBot = 0\n",
    "    rondasGeneral = 1\n",
    "    #Bucle de la partida hasta que llegue a 3 rondas y sin contar los empates\n",
    "    while winsHuman < 3 and winsBot < 3:\n",
    "        #Menu opcion\n",
    "        print(\"=== Ronda \",rondasGeneral, \" ===\")\n",
    "        #Bucle para comprobar de que pone una opcion valida\n",
    "        while True:\n",
    "            print(\"1: Piedra\\n2: Papel\\n3: Tijeras\")\n",
    "            opcionHumano = input()#input\n",
    "            if opcionHumano.isdigit():\n",
    "                opcionHumano = int(opcionHumano)\n",
    "                if opcionHumano < 4 and  opcionHumano > 0:\n",
    "                    break\n",
    "                else:\n",
    "                    print(\"!!ERROR: Porfavor inserte una opcion valida\")\n",
    "            else:\n",
    "                print(\"!!ERROR: Porfavor inserte una opcion valida\")\n",
    "    \n",
    "        opcionBot = random.randint(1,3)#random de bot\n",
    "        \n",
    "        print(\"Humano ha sacado:\",elementos[opcionHumano])\n",
    "        print(\"Bot ha sacado:\",elementos[opcionBot])\n",
    "        if (opcionBot == 1 and opcionHumano == 2) or (opcionHumano == 3 and opcionBot == 2) or (opcionHumano == 1 and opcionBot == 3):\n",
    "            print(\"GanaHumano\")\n",
    "            winsHuman += 1\n",
    "            \n",
    "        elif (opcionBot == 2 and opcionHumano == 1) or (opcionHumano == 2 and opcionBot == 3) or (opcionHumano == 3 and opcionBot == 1):\n",
    "            print(\"GanaBot\")\n",
    "            winsBot += 1\n",
    "            \n",
    "        else:\n",
    "            print(\"Empate\")\n",
    "        rondasGeneral +=1\n",
    "    print(\"------- Se ha acabado la partida -------\")\n",
    "    print(\"Humano:\",winsHuman)\n",
    "    print(\"Bot:\",winsBot)\n",
    "    if winsHuman > winsBot:\n",
    "        print(\"Has ganado!\")\n",
    "    else:\n",
    "        print(\"Ha ganado el bot :(\")\n",
    "piedraOpapel()"
   ]
  },
  {
   "cell_type": "code",
   "execution_count": 13,
   "id": "8b1ad373-630a-4916-b4f9-79c006c9d47a",
   "metadata": {},
   "outputs": [
    {
     "name": "stdout",
     "output_type": "stream",
     "text": [
      "+++ ADIVINAR UN NUMERO +++\n",
      "\n",
      "== Intento  1  ==\n"
     ]
    },
    {
     "name": "stdin",
     "output_type": "stream",
     "text": [
      "-Escoge un numero del 1 al 10 -> 1\n"
     ]
    },
    {
     "name": "stdout",
     "output_type": "stream",
     "text": [
      "El numero es mayor a  1\n",
      "\n",
      "== Intento  2  ==\n"
     ]
    },
    {
     "name": "stdin",
     "output_type": "stream",
     "text": [
      "-Escoge un numero del 1 al 10 -> 1\n"
     ]
    },
    {
     "name": "stdout",
     "output_type": "stream",
     "text": [
      "El numero es mayor a  1\n",
      "\n",
      "== Intento  3  ==\n"
     ]
    },
    {
     "name": "stdin",
     "output_type": "stream",
     "text": [
      "-Escoge un numero del 1 al 10 -> 2\n"
     ]
    },
    {
     "name": "stdout",
     "output_type": "stream",
     "text": [
      "++++ Numero correcto! ++++\n"
     ]
    }
   ],
   "source": [
    "# Funcion adivinarNumero\n",
    "def adivinarNumero():\n",
    "    print(\"+++ ADIVINAR UN NUMERO +++\")\n",
    "    numero = random.randint(1,10)\n",
    "    correcto = False\n",
    "    for i in range(3):\n",
    "        print(\"\\n== Intento \",i+1,\" ==\")\n",
    "        while True:\n",
    "            intento = input(\"-Escoge un numero del 1 al 10 ->\")\n",
    "            if intento.isdigit():\n",
    "                intento = int(intento)\n",
    "                break\n",
    "            else:\n",
    "                print(\"!!!ERROR: Porfavor introduce un numero\")\n",
    "        if intento == numero:\n",
    "            correcto = True\n",
    "            break\n",
    "        elif intento > numero:\n",
    "            print(\"El numero es menor a \",intento)\n",
    "        else:\n",
    "            print(\"El numero es mayor a \",intento)\n",
    "    if correcto:\n",
    "        print(\"++++ Numero correcto! ++++\")\n",
    "    else:\n",
    "        print(\"+++ Has fallado los tres intentos, el numero era:\",numero,\" +++\")\n",
    "        \n",
    "adivinarNumero()"
   ]
  },
  {
   "cell_type": "code",
   "execution_count": 20,
   "id": "7d1d3c81-8914-4c41-922c-4791bd336cd3",
   "metadata": {},
   "outputs": [
    {
     "name": "stdin",
     "output_type": "stream",
     "text": [
      "Introduce una posible letra> a\n"
     ]
    },
    {
     "name": "stdout",
     "output_type": "stream",
     "text": [
      "La palabra contiene esa letra\n",
      "___a\n"
     ]
    },
    {
     "name": "stdin",
     "output_type": "stream",
     "text": [
      "Introduce una posible letra> a\n"
     ]
    },
    {
     "name": "stdout",
     "output_type": "stream",
     "text": [
      "Esa letra ya la has dicho\n"
     ]
    },
    {
     "name": "stdin",
     "output_type": "stream",
     "text": [
      "Introduce una posible letra> a\n"
     ]
    },
    {
     "name": "stdout",
     "output_type": "stream",
     "text": [
      "Esa letra ya la has dicho\n"
     ]
    },
    {
     "name": "stdin",
     "output_type": "stream",
     "text": [
      "Introduce una posible letra> h\n"
     ]
    },
    {
     "name": "stdout",
     "output_type": "stream",
     "text": [
      "La palabra contiene esa letra\n",
      "h__a\n"
     ]
    },
    {
     "name": "stdin",
     "output_type": "stream",
     "text": [
      "Introduce una posible letra> o\n"
     ]
    },
    {
     "name": "stdout",
     "output_type": "stream",
     "text": [
      "La palabra contiene esa letra\n",
      "ho_a\n"
     ]
    },
    {
     "name": "stdin",
     "output_type": "stream",
     "text": [
      "Introduce una posible letra> z\n"
     ]
    },
    {
     "name": "stdout",
     "output_type": "stream",
     "text": [
      "La palabra no contiene esa letra\n"
     ]
    },
    {
     "name": "stdin",
     "output_type": "stream",
     "text": [
      "Introduce una posible letra> z\n"
     ]
    },
    {
     "name": "stdout",
     "output_type": "stream",
     "text": [
      "Esa letra ya la has dicho\n"
     ]
    },
    {
     "name": "stdin",
     "output_type": "stream",
     "text": [
      "Introduce una posible letra> s\n"
     ]
    },
    {
     "name": "stdout",
     "output_type": "stream",
     "text": [
      "La palabra no contiene esa letra\n"
     ]
    },
    {
     "name": "stdin",
     "output_type": "stream",
     "text": [
      "Introduce una posible letra> a\n"
     ]
    },
    {
     "name": "stdout",
     "output_type": "stream",
     "text": [
      "Esa letra ya la has dicho\n"
     ]
    },
    {
     "name": "stdin",
     "output_type": "stream",
     "text": [
      "Introduce una posible letra> l\n"
     ]
    },
    {
     "name": "stdout",
     "output_type": "stream",
     "text": [
      "La palabra contiene esa letra\n",
      "hola\n",
      "+++ Felicidades has ganado +++\n"
     ]
    }
   ],
   "source": [
    "#Funcion de Ahorcado \n",
    "#Solo queda hacer tal y como lo dice en el pwpt con los ficheros y tal\n",
    "#Pero esta seria la base del ahorcado\n",
    "def ahorcado():\n",
    "    palabra = \"hola\"\n",
    "    letrasAcertadas = []\n",
    "    letrasDichas = []\n",
    "    while True:\n",
    "        letra = input(\"\\nIntroduce una posible letra>\")\n",
    "        if letra in letrasDichas:\n",
    "            print(\"Esa letra ya la has dicho\")\n",
    "        else:\n",
    "            letrasDichas.append(letra)\n",
    "            if letra in palabra:\n",
    "                letrasAcertadas.append(letra)\n",
    "                print(\"La palabra contiene esa letra\")\n",
    "                palabraOut = \"\"\n",
    "\n",
    "                for i in range(len(palabra)):\n",
    "                    if palabra[i] in letrasAcertadas:\n",
    "                        palabraOut += palabra[i]\n",
    "                    else:\n",
    "                        palabraOut += \"_\"\n",
    "                        \n",
    "                print(palabraOut)\n",
    "                \n",
    "            else:\n",
    "                print(\"La palabra no contiene esa letra\")\n",
    "                \n",
    "        if palabraOut == palabra:\n",
    "            print(\"+++ Felicidades has ganado +++\")\n",
    "            break\n",
    "ahorcado()"
   ]
  },
  {
   "cell_type": "code",
   "execution_count": null,
   "id": "42d8acd6-27e2-43d3-b4b7-76df51739baa",
   "metadata": {},
   "outputs": [],
   "source": []
  }
 ],
 "metadata": {
  "kernelspec": {
   "display_name": "Python 3 (ipykernel)",
   "language": "python",
   "name": "python3"
  },
  "language_info": {
   "codemirror_mode": {
    "name": "ipython",
    "version": 3
   },
   "file_extension": ".py",
   "mimetype": "text/x-python",
   "name": "python",
   "nbconvert_exporter": "python",
   "pygments_lexer": "ipython3",
   "version": "3.9.12"
  },
  "vscode": {
   "interpreter": {
    "hash": "916dbcbb3f70747c44a77c7bcd40155683ae19c65e1c03b4aa3499c5328201f1"
   }
  }
 },
 "nbformat": 4,
 "nbformat_minor": 5
}
