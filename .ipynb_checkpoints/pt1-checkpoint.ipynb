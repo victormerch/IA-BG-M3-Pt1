{
 "cells": [
  {
   "cell_type": "code",
   "execution_count": 23,
   "id": "988dd549",
   "metadata": {},
   "outputs": [],
   "source": [
    "import random\n",
    "# Funcion para piedra papel o tijeras\n",
    "def piedraOpapel():\n",
    "    print(\"+++ PIEDRA, PAPEL TIJERAS +++\\n\".ljust(37),\"HUMANO VS BOT\")\n",
    "    #Variables de config\n",
    "    elementos = {1:\"Piedra\",2:\"Papel\",3:\"Tijeras\"}\n",
    "    winsHuman = 0\n",
    "    winsBot = 0\n",
    "    rondasGeneral = 1\n",
    "    #Bucle de la partida hasta que llegue a 3 rondas y sin contar los empates\n",
    "    while winsHuman < 3 and winsBot < 3:\n",
    "        #Menu opcion\n",
    "        print(\"=== Ronda \",rondasGeneral, \" ===\")\n",
    "        #Bucle para comprobar de que pone una opcion valida\n",
    "        while True:\n",
    "            print(\"1: Piedra\\n2: Papel\\n3: Tijeras\")\n",
    "            opcionHumano = input()#input\n",
    "            if opcionHumano.isdigit():\n",
    "                opcionHumano = int(opcionHumano)\n",
    "                if opcionHumano < 4 and  opcionHumano > 0:\n",
    "                    break\n",
    "                else:\n",
    "                    print(\"!!ERROR: Porfavor inserte una opcion valida\")\n",
    "            else:\n",
    "                print(\"!!ERROR: Porfavor inserte una opcion valida\")\n",
    "    \n",
    "        opcionBot = random.randint(1,3)#random de bot\n",
    "        \n",
    "        print(\"Humano ha sacado:\",elementos[opcionHumano])\n",
    "        print(\"Bot ha sacado:\",elementos[opcionBot])\n",
    "        if (opcionBot == 1 and opcionHumano == 2) or (opcionHumano == 3 and opcionBot == 2) or (opcionHumano == 1 and opcionBot == 3):\n",
    "            print(\"GanaHumano\")\n",
    "            winsHuman += 1\n",
    "            \n",
    "        elif (opcionBot == 2 and opcionHumano == 1) or (opcionHumano == 2 and opcionBot == 3) or (opcionHumano == 3 and opcionBot == 1):\n",
    "            print(\"GanaBot\")\n",
    "            winsBot += 1\n",
    "            \n",
    "        else:\n",
    "            print(\"Empate\")\n",
    "        rondasGeneral +=1\n",
    "    print(\"------- Se ha acabado la partida -------\")\n",
    "    print(\"Humano:\",winsHuman)\n",
    "    print(\"Bot:\",winsBot)\n",
    "    if winsHuman > winsBot:\n",
    "        print(\"Has ganado!\")\n",
    "    else:\n",
    "        print(\"Ha ganado el bot :(\")"
   ]
  },
  {
   "cell_type": "code",
   "execution_count": 24,
   "id": "8b1ad373-630a-4916-b4f9-79c006c9d47a",
   "metadata": {},
   "outputs": [],
   "source": [
    "# Funcion adivinarNumero\n",
    "def adivinarNumero():\n",
    "    print(\"+++ ADIVINAR UN NUMERO +++\\nTienes 3 intentos\")\n",
    "    numero = random.randint(1,10)\n",
    "    correcto = False\n",
    "    for i in range(3):\n",
    "        print(\"\\n== Intento \",i+1,\" ==\")\n",
    "        while True:\n",
    "            intento = input(\"-Escoge un numero del 1 al 10 ->\")\n",
    "            if intento.isdigit():\n",
    "                intento = int(intento)\n",
    "                break\n",
    "            else:\n",
    "                print(\"!!!ERROR: Porfavor introduce un numero\")\n",
    "        if intento == numero:\n",
    "            correcto = True\n",
    "            break\n",
    "        elif intento > numero:\n",
    "            print(\"El numero es menor a \",intento)\n",
    "        else:\n",
    "            print(\"El numero es mayor a \",intento)\n",
    "    if correcto:\n",
    "        print(\"++++ Numero correcto! ++++\")\n",
    "    else:\n",
    "        print(\"+++ Has fallado los tres intentos, el numero era:\",numero,\" +++\")\n",
    "        \n"
   ]
  },
  {
   "cell_type": "code",
   "execution_count": 84,
   "id": "7d1d3c81-8914-4c41-922c-4791bd336cd3",
   "metadata": {},
   "outputs": [],
   "source": [
    "#Funcion de Ahorcado \n",
    "#Solo queda hacer tal y como lo dice en el pwpt con los ficheros y tal\n",
    "#Pero esta seria la base del ahorcado\n",
    "def sacarPalabras(fichero):\n",
    "    f = open(fichero, 'r')\n",
    "    lineas = f.readlines()\n",
    "    lineas2 = []\n",
    "    palabras = []\n",
    "    palabrasDefinitivas = []\n",
    "    i = 0\n",
    "    for linea in lineas:\n",
    "        lineas2.append(linea.replace(\"\\n\",\"\").split())\n",
    "        for palabra in lineas2[i]:\n",
    "            palabras.append(palabra)\n",
    "        i += 1\n",
    "\n",
    "    for i in range(len(palabras)):\n",
    "        if len(palabras[i]) >= 3 and len(palabras[i]) <= 7:\n",
    "\n",
    "            palabrasDefinitivas.append(palabras[i])\n",
    "    return palabrasDefinitivas\n",
    "def ahorcado():\n",
    "    ganador = False\n",
    "    palabrasDefinitivas = sacarPalabras('texto.txt')\n",
    "\n",
    "    palabra = random.choice(palabrasDefinitivas)\n",
    "    letrasAcertadas = []\n",
    "    letrasDichas = []\n",
    "    palabraOut = \"\"\n",
    "    print(\"++++ Tienes \",(len(palabra) * 2),\"intentos ++++\")\n",
    "    for i in range(len(palabra) * 2):\n",
    "        print(\"\\nINTENTO\", i+1)\n",
    "        letra = input(\"\\nIntroduce una posible letra>\")\n",
    "        if letra in letrasDichas:\n",
    "            print(\"Esa letra ya la has dicho\")\n",
    "        else:\n",
    "            letrasDichas.append(letra)\n",
    "            if letra in palabra:\n",
    "                letrasAcertadas.append(letra)\n",
    "                print(\"La palabra contiene esa letra\")\n",
    "                palabraOut = \"\"\n",
    "\n",
    "                for i in range(len(palabra)):\n",
    "                    if palabra[i] in letrasAcertadas:\n",
    "                        palabraOut += palabra[i]\n",
    "                    else:\n",
    "                        palabraOut += \"_\"\n",
    "                        \n",
    "                print(palabraOut)\n",
    "                \n",
    "            else:\n",
    "                print(\"La palabra no contiene esa letra\")\n",
    "                \n",
    "        if palabraOut == palabra:\n",
    "            ganador = True\n",
    "            print(\"\\n+++ Felicidades HAS GANADO +++\")\n",
    "            break\n",
    "    if ganador == False:\n",
    "        print(\"\\n++ HAS PERDIDO, la palabra era\",palabra.upper(),\" ++\")\n"
   ]
  },
  {
   "cell_type": "code",
   "execution_count": 85,
   "id": "42d8acd6-27e2-43d3-b4b7-76df51739baa",
   "metadata": {},
   "outputs": [
    {
     "name": "stdout",
     "output_type": "stream",
     "text": [
      "\u001b[H\u001b[2J=====================\n",
      "=== M3 Practica 1 ===\n",
      "=====================\n",
      "Opciones:\n",
      "1: Adivinar Numero\n",
      "2: Piedra, papel o tijeras\n",
      "3: Ahorcado\n",
      "4: Salir\n"
     ]
    },
    {
     "name": "stdin",
     "output_type": "stream",
     "text": [
      "> 3\n"
     ]
    },
    {
     "name": "stdout",
     "output_type": "stream",
     "text": [
      "++++ Tienes  6 intentos ++++\n",
      "\n",
      "INTENTO 1\n"
     ]
    },
    {
     "name": "stdin",
     "output_type": "stream",
     "text": [
      "\n",
      "Introduce una posible letra> a\n"
     ]
    },
    {
     "name": "stdout",
     "output_type": "stream",
     "text": [
      "La palabra no contiene esa letra\n",
      "\n",
      "INTENTO 2\n"
     ]
    },
    {
     "name": "stdin",
     "output_type": "stream",
     "text": [
      "\n",
      "Introduce una posible letra> b\n"
     ]
    },
    {
     "name": "stdout",
     "output_type": "stream",
     "text": [
      "La palabra no contiene esa letra\n",
      "\n",
      "INTENTO 3\n"
     ]
    },
    {
     "name": "stdin",
     "output_type": "stream",
     "text": [
      "\n",
      "Introduce una posible letra> c\n"
     ]
    },
    {
     "name": "stdout",
     "output_type": "stream",
     "text": [
      "La palabra contiene esa letra\n",
      "c__\n",
      "\n",
      "INTENTO 4\n"
     ]
    },
    {
     "name": "stdin",
     "output_type": "stream",
     "text": [
      "\n",
      "Introduce una posible letra> d\n"
     ]
    },
    {
     "name": "stdout",
     "output_type": "stream",
     "text": [
      "La palabra no contiene esa letra\n",
      "\n",
      "INTENTO 5\n"
     ]
    },
    {
     "name": "stdin",
     "output_type": "stream",
     "text": [
      "\n",
      "Introduce una posible letra> a\n"
     ]
    },
    {
     "name": "stdout",
     "output_type": "stream",
     "text": [
      "Esa letra ya la has dicho\n",
      "\n",
      "INTENTO 6\n"
     ]
    },
    {
     "name": "stdin",
     "output_type": "stream",
     "text": [
      "\n",
      "Introduce una posible letra> i\n"
     ]
    },
    {
     "name": "stdout",
     "output_type": "stream",
     "text": [
      "La palabra no contiene esa letra\n",
      "\n",
      "++ HAS PERDIDO, la palabra era CON  ++\n",
      "\n",
      "Opciones:\n",
      "Enter: Volver a jugar\n",
      "Cualquier tecla: Atras\n"
     ]
    },
    {
     "name": "stdin",
     "output_type": "stream",
     "text": [
      "> g\n"
     ]
    },
    {
     "name": "stdout",
     "output_type": "stream",
     "text": [
      "\u001b[H\u001b[2J=====================\n",
      "=== M3 Practica 1 ===\n",
      "=====================\n",
      "Opciones:\n",
      "1: Adivinar Numero\n",
      "2: Piedra, papel o tijeras\n",
      "3: Ahorcado\n",
      "4: Salir\n"
     ]
    },
    {
     "name": "stdin",
     "output_type": "stream",
     "text": [
      "> 4\n"
     ]
    },
    {
     "name": "stdout",
     "output_type": "stream",
     "text": [
      "======================\n",
      "===FIN DEL PROGRAMA===\n",
      "======================\n"
     ]
    }
   ],
   "source": [
    "#MENU PRINCIPAL\n",
    "import os\n",
    "menu = True\n",
    "funciones = {\"1\":adivinarNumero,\"2\":piedraOpapel,\"3\":ahorcado}\n",
    "\n",
    "while menu:\n",
    "    os.system(\"clear\")\n",
    "    print(\"=====================\")\n",
    "    print(\"=== M3 Practica 1 ===\")\n",
    "    print(\"=====================\")\n",
    "    print(\"Opciones:\\n1: Adivinar Numero\\n2: Piedra, papel o tijeras\\n3: Ahorcado\\n4: Salir\")\n",
    "    opcion = input(\">\")\n",
    "        \n",
    "    if opcion == \"1\" or opcion == \"2\" or opcion == \"3\":\n",
    "        while True:\n",
    "            funciones[opcion]()\n",
    "            print(\"\\nOpciones:\\nEnter: Volver a jugar\\nCualquier tecla: Atras\")\n",
    "            opcion2 = input(\">\")\n",
    "            if opcion2 != \"\":\n",
    "                break     \n",
    "    \n",
    "    elif opcion == \"4\":\n",
    "        print(\"======================\")\n",
    "        print(\"===FIN DEL PROGRAMA===\")\n",
    "        print(\"======================\")\n",
    "        menu = False\n",
    "    \n",
    "    else:\n",
    "        print(\"!!@ERROR: Porfavor inserte una opcion valida\")\n",
    "        \n",
    "    "
   ]
  },
  {
   "cell_type": "code",
   "execution_count": null,
   "id": "54e3dfd2-e4a6-4fcc-9d2e-dd3790fb852c",
   "metadata": {},
   "outputs": [],
   "source": []
  },
  {
   "cell_type": "code",
   "execution_count": null,
   "id": "e98c4496-0e09-4cec-9619-43ee00104949",
   "metadata": {},
   "outputs": [],
   "source": []
  },
  {
   "cell_type": "code",
   "execution_count": null,
   "id": "36df7c83-ca64-47b4-a8aa-11d308e0c50b",
   "metadata": {},
   "outputs": [],
   "source": []
  },
  {
   "cell_type": "code",
   "execution_count": null,
   "id": "32f3c314-adab-4fa8-948e-d72def76c9a9",
   "metadata": {},
   "outputs": [],
   "source": []
  }
 ],
 "metadata": {
  "kernelspec": {
   "display_name": "Python 3 (ipykernel)",
   "language": "python",
   "name": "python3"
  },
  "language_info": {
   "codemirror_mode": {
    "name": "ipython",
    "version": 3
   },
   "file_extension": ".py",
   "mimetype": "text/x-python",
   "name": "python",
   "nbconvert_exporter": "python",
   "pygments_lexer": "ipython3",
   "version": "3.9.12"
  },
  "vscode": {
   "interpreter": {
    "hash": "916dbcbb3f70747c44a77c7bcd40155683ae19c65e1c03b4aa3499c5328201f1"
   }
  }
 },
 "nbformat": 4,
 "nbformat_minor": 5
}
