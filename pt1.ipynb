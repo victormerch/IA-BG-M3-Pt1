{
 "cells": [
  {
   "cell_type": "code",
   "execution_count": null,
   "id": "988dd549",
   "metadata": {},
   "outputs": [
    {
     "name": "stdout",
     "output_type": "stream",
     "text": [
      "+++ PIEDRA, PAPEL TIJERAS +++\n",
      "        HUMANO VS BOT\n",
      "=== Ronda  1  ===\n",
      "1: Piedra\n",
      "2: Papel\n",
      "3: Tijeras\n"
     ]
    },
    {
     "name": "stdin",
     "output_type": "stream",
     "text": [
      " 1\n"
     ]
    },
    {
     "name": "stdout",
     "output_type": "stream",
     "text": [
      "Humano ha sacado: Piedra\n",
      "Bot ha sacado: Tijeras\n",
      "GanaHumano\n",
      "=== Ronda  2  ===\n",
      "1: Piedra\n",
      "2: Papel\n",
      "3: Tijeras\n"
     ]
    },
    {
     "name": "stdin",
     "output_type": "stream",
     "text": [
      " 1\n"
     ]
    },
    {
     "name": "stdout",
     "output_type": "stream",
     "text": [
      "Humano ha sacado: Piedra\n",
      "Bot ha sacado: Tijeras\n",
      "GanaHumano\n",
      "=== Ronda  3  ===\n",
      "1: Piedra\n",
      "2: Papel\n",
      "3: Tijeras\n"
     ]
    },
    {
     "name": "stdin",
     "output_type": "stream",
     "text": [
      " 1\n"
     ]
    },
    {
     "name": "stdout",
     "output_type": "stream",
     "text": [
      "Humano ha sacado: Piedra\n",
      "Bot ha sacado: Piedra\n",
      "Empate\n",
      "=== Ronda  4  ===\n",
      "1: Piedra\n",
      "2: Papel\n",
      "3: Tijeras\n"
     ]
    },
    {
     "name": "stdin",
     "output_type": "stream",
     "text": [
      " 1\n"
     ]
    },
    {
     "name": "stdout",
     "output_type": "stream",
     "text": [
      "Humano ha sacado: Piedra\n",
      "Bot ha sacado: Papel\n",
      "GanaBot\n",
      "=== Ronda  5  ===\n",
      "1: Piedra\n",
      "2: Papel\n",
      "3: Tijeras\n"
     ]
    },
    {
     "name": "stdin",
     "output_type": "stream",
     "text": [
      " 1\n"
     ]
    },
    {
     "name": "stdout",
     "output_type": "stream",
     "text": [
      "Humano ha sacado: Piedra\n",
      "Bot ha sacado: Tijeras\n",
      "GanaHumano\n",
      "------- Se ha acabado la partida -------\n",
      "Humano: 3\n",
      "Bot: 1\n",
      "Has ganado!\n"
     ]
    }
   ],
   "source": [
    "import random\n",
    "# Funcion para piedra papel o tijeras\n",
    "def piedraOpapel():\n",
    "    print(\"+++ PIEDRA, PAPEL TIJERAS +++\\n\".ljust(37),\"HUMANO VS BOT\")\n",
    "    #Variables de config\n",
    "    elementos = {1:\"Piedra\",2:\"Papel\",3:\"Tijeras\"}\n",
    "    winsHuman = 0\n",
    "    winsBot = 0\n",
    "    rondasGeneral = 1\n",
    "    #Bucle de la partida hasta que llegue a 3 rondas y sin contar los empates\n",
    "    while winsHuman < 3 and winsBot < 3:\n",
    "        #Menu opcion\n",
    "        print(\"=== Ronda \",rondasGeneral, \" ===\")\n",
    "        #Bucle para comprobar de que pone una opcion valida\n",
    "        while True:\n",
    "            print(\"1: Piedra\\n2: Papel\\n3: Tijeras\")\n",
    "            opcionHumano = input()#input\n",
    "            if opcionHumano.isdigit():\n",
    "                opcionHumano = int(opcionHumano)\n",
    "                if opcionHumano < 4 and  opcionHumano > 0:\n",
    "                    break\n",
    "                else:\n",
    "                    print(\"!!ERROR: Porfavor inserte una opcion valida\")\n",
    "            else:\n",
    "                print(\"!!ERROR: Porfavor inserte una opcion valida\")\n",
    "    \n",
    "        opcionBot = random.randint(1,3)#random de bot\n",
    "        \n",
    "        print(\"Humano ha sacado:\",elementos[opcionHumano])\n",
    "        print(\"Bot ha sacado:\",elementos[opcionBot])\n",
    "        if (opcionBot == 1 and opcionHumano == 2) or (opcionHumano == 3 and opcionBot == 2) or (opcionHumano == 1 and opcionBot == 3):\n",
    "            print(\"GanaHumano\")\n",
    "            winsHuman += 1\n",
    "            \n",
    "        elif (opcionBot == 2 and opcionHumano == 1) or (opcionHumano == 2 and opcionBot == 3) or (opcionHumano == 3 and opcionBot == 1):\n",
    "            print(\"GanaBot\")\n",
    "            winsBot += 1\n",
    "            \n",
    "        else:\n",
    "            print(\"Empate\")\n",
    "        rondasGeneral +=1\n",
    "    print(\"------- Se ha acabado la partida -------\")\n",
    "    print(\"Humano:\",winsHuman)\n",
    "    print(\"Bot:\",winsBot)\n",
    "    if winsHuman > winsBot:\n",
    "        print(\"Has ganado!\")\n",
    "    else:\n",
    "        print(\"Ha ganado el bot :(\")\n",
    "piedraOpapel()"
   ]
  },
  {
   "cell_type": "code",
   "execution_count": 7,
   "id": "8b1ad373-630a-4916-b4f9-79c006c9d47a",
   "metadata": {},
   "outputs": [
    {
     "name": "stdout",
     "output_type": "stream",
     "text": [
      "+++ ADIVINAR UN NUMERO +++\n",
      "Tienes 3 intentos\n",
      "\n",
      "== Intento  1  ==\n"
     ]
    },
    {
     "name": "stdin",
     "output_type": "stream",
     "text": [
      "-Escoge un numero del 1 al 10 -> 1\n"
     ]
    },
    {
     "name": "stdout",
     "output_type": "stream",
     "text": [
      "El numero es mayor a  1\n",
      "\n",
      "== Intento  2  ==\n"
     ]
    },
    {
     "name": "stdin",
     "output_type": "stream",
     "text": [
      "-Escoge un numero del 1 al 10 -> 2\n"
     ]
    },
    {
     "name": "stdout",
     "output_type": "stream",
     "text": [
      "El numero es mayor a  2\n",
      "\n",
      "== Intento  3  ==\n"
     ]
    },
    {
     "name": "stdin",
     "output_type": "stream",
     "text": [
      "-Escoge un numero del 1 al 10 -> 3\n"
     ]
    },
    {
     "name": "stdout",
     "output_type": "stream",
     "text": [
      "El numero es mayor a  3\n",
      "+++ Has fallado los tres intentos, el numero era: 6  +++\n"
     ]
    }
   ],
   "source": [
    "# Funcion adivinarNumero\n",
    "def adivinarNumero():\n",
    "    print(\"+++ ADIVINAR UN NUMERO +++\\nTienes 3 intentos\")\n",
    "    numero = random.randint(1,10)\n",
    "    correcto = False\n",
    "    for i in range(3):\n",
    "        print(\"\\n== Intento \",i+1,\" ==\")\n",
    "        while True:\n",
    "            intento = input(\"-Escoge un numero del 1 al 10 ->\")\n",
    "            if intento.isdigit():\n",
    "                intento = int(intento)\n",
    "                break\n",
    "            else:\n",
    "                print(\"!!!ERROR: Porfavor introduce un numero\")\n",
    "        if intento == numero:\n",
    "            correcto = True\n",
    "            break\n",
    "        elif intento > numero:\n",
    "            print(\"El numero es menor a \",intento)\n",
    "        else:\n",
    "            print(\"El numero es mayor a \",intento)\n",
    "    if correcto:\n",
    "        print(\"++++ Numero correcto! ++++\")\n",
    "    else:\n",
    "        print(\"+++ Has fallado los tres intentos, el numero era:\",numero,\" +++\")\n",
    "        \n",
    "adivinarNumero()"
   ]
  },
  {
   "cell_type": "code",
   "execution_count": 8,
   "id": "7d1d3c81-8914-4c41-922c-4791bd336cd3",
   "metadata": {},
   "outputs": [
    {
     "name": "stdin",
     "output_type": "stream",
     "text": [
      "\n",
      "Introduce una posible letra> a\n"
     ]
    },
    {
     "name": "stdout",
     "output_type": "stream",
     "text": [
      "La palabra contiene esa letra\n",
      "___a\n"
     ]
    },
    {
     "name": "stdin",
     "output_type": "stream",
     "text": [
      "\n",
      "Introduce una posible letra> h\n"
     ]
    },
    {
     "name": "stdout",
     "output_type": "stream",
     "text": [
      "La palabra contiene esa letra\n",
      "h__a\n"
     ]
    },
    {
     "name": "stdin",
     "output_type": "stream",
     "text": [
      "\n",
      "Introduce una posible letra> o\n"
     ]
    },
    {
     "name": "stdout",
     "output_type": "stream",
     "text": [
      "La palabra contiene esa letra\n",
      "ho_a\n"
     ]
    },
    {
     "name": "stdin",
     "output_type": "stream",
     "text": [
      "\n",
      "Introduce una posible letra> l\n"
     ]
    },
    {
     "name": "stdout",
     "output_type": "stream",
     "text": [
      "La palabra contiene esa letra\n",
      "hola\n",
      "+++ Felicidades has ganado +++\n"
     ]
    }
   ],
   "source": [
    "#Funcion de Ahorcado \n",
    "#Solo queda hacer tal y como lo dice en el pwpt con los ficheros y tal\n",
    "#Pero esta seria la base del ahorcado\n",
    "def ahorcado():\n",
    "    palabra = \"hola\"\n",
    "    letrasAcertadas = []\n",
    "    letrasDichas = []\n",
    "    while True:\n",
    "        letra = input(\"\\nIntroduce una posible letra>\")\n",
    "        if letra in letrasDichas:\n",
    "            print(\"Esa letra ya la has dicho\")\n",
    "        else:\n",
    "            letrasDichas.append(letra)\n",
    "            if letra in palabra:\n",
    "                letrasAcertadas.append(letra)\n",
    "                print(\"La palabra contiene esa letra\")\n",
    "                palabraOut = \"\"\n",
    "\n",
    "                for i in range(len(palabra)):\n",
    "                    if palabra[i] in letrasAcertadas:\n",
    "                        palabraOut += palabra[i]\n",
    "                    else:\n",
    "                        palabraOut += \"_\"\n",
    "                        \n",
    "                print(palabraOut)\n",
    "                \n",
    "            else:\n",
    "                print(\"La palabra no contiene esa letra\")\n",
    "                \n",
    "        if palabraOut == palabra:\n",
    "            print(\"+++ Felicidades has ganado +++\")\n",
    "            break\n",
    "ahorcado()"
   ]
  },
  {
   "cell_type": "code",
   "execution_count": 18,
   "id": "42d8acd6-27e2-43d3-b4b7-76df51739baa",
   "metadata": {},
   "outputs": [
    {
     "name": "stdout",
     "output_type": "stream",
     "text": [
      "=== M3 Practica 1 ===\n",
      "Opciones:\n",
      "1: Adivinar Numero\n",
      "2: Piedra, papel o tijeras\n",
      "3: Ahorcado\n",
      "4: Salir\n"
     ]
    },
    {
     "name": "stdin",
     "output_type": "stream",
     "text": [
      "> 1\n"
     ]
    },
    {
     "name": "stdout",
     "output_type": "stream",
     "text": [
      "+++ ADIVINAR UN NUMERO +++\n",
      "Tienes 3 intentos\n",
      "\n",
      "== Intento  1  ==\n"
     ]
    },
    {
     "name": "stdin",
     "output_type": "stream",
     "text": [
      "-Escoge un numero del 1 al 10 -> 1\n"
     ]
    },
    {
     "name": "stdout",
     "output_type": "stream",
     "text": [
      "El numero es mayor a  1\n",
      "\n",
      "== Intento  2  ==\n"
     ]
    },
    {
     "name": "stdin",
     "output_type": "stream",
     "text": [
      "-Escoge un numero del 1 al 10 -> 1\n"
     ]
    },
    {
     "name": "stdout",
     "output_type": "stream",
     "text": [
      "El numero es mayor a  1\n",
      "\n",
      "== Intento  3  ==\n"
     ]
    },
    {
     "name": "stdin",
     "output_type": "stream",
     "text": [
      "-Escoge un numero del 1 al 10 -> 1\n"
     ]
    },
    {
     "name": "stdout",
     "output_type": "stream",
     "text": [
      "El numero es mayor a  1\n",
      "+++ Has fallado los tres intentos, el numero era: 7  +++\n",
      "\n",
      "Opciones:\n",
      "Enter: Volver a jugar\n",
      "Cualquier tecla: Atras\n"
     ]
    },
    {
     "name": "stdin",
     "output_type": "stream",
     "text": [
      "> 1\n"
     ]
    },
    {
     "name": "stdout",
     "output_type": "stream",
     "text": [
      "=== M3 Practica 1 ===\n",
      "Opciones:\n",
      "1: Adivinar Numero\n",
      "2: Piedra, papel o tijeras\n",
      "3: Ahorcado\n",
      "4: Salir\n"
     ]
    },
    {
     "name": "stdin",
     "output_type": "stream",
     "text": [
      "> 4\n"
     ]
    },
    {
     "name": "stdout",
     "output_type": "stream",
     "text": [
      "======================\n",
      "===FIN DEL PROGRAMA===\n",
      "======================\n"
     ]
    }
   ],
   "source": [
    "#MENU PRINCIPAL\n",
    "menu = True\n",
    "\n",
    "\n",
    "while menu:\n",
    "    print(\"=====================\")\n",
    "    print(\"=== M3 Practica 1 ===\")\n",
    "    print(\"=====================\")\n",
    "    print(\"Opciones:\\n1: Adivinar Numero\\n2: Piedra, papel o tijeras\\n3: Ahorcado\\n4: Salir\")\n",
    "    opcion = input(\">\")\n",
    "        \n",
    "    if opcion == \"1\":\n",
    "        while True:\n",
    "            adivinarNumero()\n",
    "            print(\"\\nOpciones:\\nEnter: Volver a jugar\\nCualquier tecla: Atras\")\n",
    "            opcion2 = input(\">\")\n",
    "            if opcion2 != \"\":\n",
    "                break     \n",
    "    elif opcion == \"2\":\n",
    "        while True:\n",
    "            piedraOpapel()\n",
    "            print(\"\\nOpciones:\\nEnter: Volver a jugar\\nCualquier tecla: Atras\")\n",
    "            opcion2 = input(\">\")\n",
    "            if opcion2 != \"\":\n",
    "                break\n",
    "    elif opcion == \"3\":\n",
    "        while True:\n",
    "            ahorcado()\n",
    "            print(\"\\nOpciones:\\nEnter: Volver a jugar\\nCualquier tecla: Atras\")\n",
    "            opcion2 = input(\">\")\n",
    "            if opcion2 != \"\":\n",
    "                break\n",
    "    elif opcion == \"4\":\n",
    "        print(\"======================\")\n",
    "        print(\"===FIN DEL PROGRAMA===\")\n",
    "        print(\"======================\")\n",
    "        menu = False\n",
    "    \n",
    "    else:\n",
    "        print(\"!!@ERROR: Porfavor inserte una opcion valida\")\n",
    "        \n",
    "    "
   ]
  },
  {
   "cell_type": "code",
   "execution_count": null,
   "id": "043ae311-f24d-4ae5-ac56-38c3ed474b88",
   "metadata": {},
   "outputs": [],
   "source": []
  },
  {
   "cell_type": "code",
   "execution_count": null,
   "id": "54e3dfd2-e4a6-4fcc-9d2e-dd3790fb852c",
   "metadata": {},
   "outputs": [],
   "source": []
  }
 ],
 "metadata": {
  "kernelspec": {
   "display_name": "Python 3 (ipykernel)",
   "language": "python",
   "name": "python3"
  },
  "language_info": {
   "codemirror_mode": {
    "name": "ipython",
    "version": 3
   },
   "file_extension": ".py",
   "mimetype": "text/x-python",
   "name": "python",
   "nbconvert_exporter": "python",
   "pygments_lexer": "ipython3",
   "version": "3.9.12"
  },
  "vscode": {
   "interpreter": {
    "hash": "916dbcbb3f70747c44a77c7bcd40155683ae19c65e1c03b4aa3499c5328201f1"
   }
  }
 },
 "nbformat": 4,
 "nbformat_minor": 5
}
